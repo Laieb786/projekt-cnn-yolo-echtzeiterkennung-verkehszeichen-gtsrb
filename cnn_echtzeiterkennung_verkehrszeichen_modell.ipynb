{
 "cells": [
  {
   "cell_type": "markdown",
   "metadata": {},
   "source": [
    "**Convolutional Neural Network (CNN) basierend auf die YOLO-Architektur zur Erkennung von deutschen Verkehrszeichen in Echtzeit mit dem GTSRB-Dataset**\n",
    "\n",
    "Autoren: Laieb Ahmad, Enes Bayar, Mehmet Akif Onur & Mert-Can Öksuz\n",
    "<br>\n",
    "Datum: 19.08.2024\n",
    "<br>\n",
    "Modul: KI-DL/ML"
   ]
  },
  {
   "cell_type": "markdown",
   "metadata": {},
   "source": [
    "## **Befehle zum Installieren/Upgraden von Packages** \n",
    "Hiert führen wir die Installation (und nach Bedarf ein Upgrade) wichtiger Python-Pakete durch, die für unser Projekt benötigt werden. Wir verwenden die Bash-Magie `%%bash`, um mehrere `pip install`-Befehle in einer einzigen Zelle auszuführen. Dadurch wird die Effizienz erhöht und der Code übersichtlicher gestaltet. \n",
    "\n",
    "Die folgenden Pakete werden aktualisiert:\n",
    "- **Numpy**: Eine Bibliothek für numerische Berechnungen und Unterstützung von Arrays.\n",
    "- **Pandas**: Eine leistungsstarke Bibliothek zur Datenmanipulation und -analyse.\n",
    "- **Scikit-learn**: Ein Framework für maschinelles Lernen mit zahlreichen Algorithmen und Werkzeugen.\n",
    "- **Scikit-image**: Eine Sammlung von Algorithmen zur Bildverarbeitung.\n",
    "- **Pillow**: Eine Bibliothek zur Bildbearbeitung und -manipulation.\n",
    "- **Imbalanced-learn**: Eine Bibliothek zur Behandlung von unausgewogenen Datensätzen im maschinellen Lernen.\n",
    "- **Statsmodels**: Eine Bibliothek für statistische Modelle und Hypothesentests.\n",
    "- **Matplotlib**: Ein Plotting-Toolkit zur Datenvisualisierung.\n",
    "- **Seaborn**: Eine auf Matplotlib basierende Bibliothek zur statistischen Datenvisualisierung.\n",
    "- **TensorFlow**: Ein Framework für maschinelles Lernen und Deep Learning.\n",
    "- **Ultralytics**: Eine Bibliothek, die das YOLO-Framework für die Objekt- und Verkehrszeichenerkennung bereitstellt.\n",
    "\n",
    "Durch die Verwendung dieser Bash-Zelle stellen wir sicher, dass alle erforderlichen Pakete auf dem neuesten Stand sind, um optimale Leistung und Kompatibilität während der Entwicklung zu gewährleisten.\n"
   ]
  },
  {
   "cell_type": "code",
   "execution_count": null,
   "metadata": {},
   "outputs": [],
   "source": [
    "%%bash #Anstatt einzel % vor jedem Command, gesammelt in einer Funktion\n",
    "pip install numpy --upgrade\n",
    "pip install pandas --upgrade\n",
    "pip install scikit-learn --upgrade\n",
    "pip install scikit-image --upgrade\n",
    "pip install pillow --upgrade\n",
    "pip install imbalanced-learn --upgrade\n",
    "pip install statsmodels --upgrade\n",
    "pip install matplotlib --upgrade\n",
    "pip install seaborn --upgrade\n",
    "pip install tensorflow --upgrade\n",
    "pip install ultralytics --upgrade"
   ]
  },
  {
   "cell_type": "markdown",
   "metadata": {},
   "source": [
    "## **Laden von Packages** \n",
    "In diesem Abschnitt importieren wir die erforderlichen Bibliotheken, die für die Entwicklung und Ausführung unseres YOLOv5-Projekts notwendig sind. \n",
    "\n",
    "- **`from ultralytics import YOLO`**: Importiert das YOLO-Modul von Ultralytics, das für die Objekt- und Verkehrszeichenerkennung verwendet wird.\n",
    "- **`import os`**: Ermöglicht den Zugriff auf Funktionen zur Interaktion mit dem Betriebssystem, wie das Verwalten von Dateipfaden und Verzeichnissen.\n",
    "- **`import numpy as np`**: Importiert die Numpy-Bibliothek, die grundlegende Funktionen für numerische Berechnungen und Arrays bereitstellt.\n",
    "- **`import pandas as pd`**: Importiert Pandas, das für die Datenmanipulation und -analyse verwendet wird, insbesondere für die Arbeit mit DataFrames.\n",
    "- **`import cv2`**: Importiert OpenCV, eine Bibliothek für Computer Vision, die Funktionen zur Bild- und Videoverarbeitung bereitstellt.\n",
    "- **`import shutil`**: Ermöglicht die Durchführung von Datei- und Verzeichnisoperationen, wie das Kopieren und Verschieben von Dateien.\n",
    "- **`import matplotlib`**: Importiert Matplotlib, eine Bibliothek zur Datenvisualisierung, die häufig zur Erstellung von Diagrammen und Grafiken verwendet wird.\n",
    "- **`import csv`**: Importiert die CSV-Bibliothek, die das Arbeiten mit CSV-Dateien zur Datenspeicherung und -verarbeitung erleichtert.\n",
    "- **`import torch`**: Importiert PyTorch, ein Framework für maschinelles Lernen, das für die Implementierung und das Training von Deep-Learning-Modellen verwendet wird.\n",
    "\n",
    "Durch diese Importe stellen wir sicher, dass wir alle notwendigen Funktionen und Werkzeuge zur Verfügung haben, um unser Projekt erfolgreich umzusetzen.\n"
   ]
  },
  {
   "cell_type": "code",
   "execution_count": 1,
   "metadata": {},
   "outputs": [],
   "source": [
    "from ultralytics import YOLO\n",
    "import os\n",
    "import numpy as np\n",
    "import pandas as pd\n",
    "import cv2\n",
    "import shutil\n",
    "import matplotlib\n",
    "import csv\n",
    "import torch"
   ]
  },
  {
   "cell_type": "markdown",
   "metadata": {},
   "source": [
    "## **Übersicht der Versionen von den genutzten Packages** \n",
    "In diesem Abschnitt überprüfen wir die installierten Versionen wichtiger Pakete, die in unserem Projekt verwendet werden. Wir nutzen `print()`-Befehle, um die Versionen der Pakete Numpy, Pandas, OpenCV, Matplotlib, CSV und PyTorch anzuzeigen. Dies ermöglicht uns, sicherzustellen, dass die richtigen Versionen installiert sind und die Kompatibilität zwischen den Bibliotheken gegeben ist. \n"
   ]
  },
  {
   "cell_type": "code",
   "execution_count": 2,
   "metadata": {},
   "outputs": [
    {
     "name": "stdout",
     "output_type": "stream",
     "text": [
      "Package 'Numpy': 1.26.4\n",
      "Package 'Pandas': 2.2.3\n",
      "Package 'OpenCV': 4.10.0\n",
      "Package 'Matplotlib': 3.9.2\n",
      "Package 'CSV': 1.0\n",
      "Package 'PyTorch': 2.4.1+cpu\n"
     ]
    }
   ],
   "source": [
    "print(\"Package 'Numpy':\",np.__version__)\n",
    "print(\"Package 'Pandas':\",pd.__version__)\n",
    "print(\"Package 'OpenCV':\",cv2.__version__)\n",
    "print(\"Package 'Matplotlib':\",matplotlib.__version__)\n",
    "print(\"Package 'CSV':\",csv.__version__)\n",
    "print(\"Package 'PyTorch':\",torch.__version__)"
   ]
  },
  {
   "cell_type": "markdown",
   "metadata": {},
   "source": [
    "## **Installieren von Yolov5** \n",
    "In diesem Abschnitt klonen wir das YOLOv5-Repository von GitHub, um auf den Quellcode und die Modelle zuzugreifen. Zuerst verwenden wir den Befehl `!git clone https://github.com/ultralytics/yolov5`, um das Repository auf unser lokales System herunterzuladen. Anschließend wechseln wir mit `%cd yolov5` in das Verzeichnis des geklonten Projekts, um dort weitere Schritte auszuführen. Schließlich installieren wir mit `%pip install -r requirements.txt` alle erforderlichen Abhängigkeiten, die für den Betrieb des YOLOv5-Modells notwendig sind.\n"
   ]
  },
  {
   "cell_type": "code",
   "execution_count": 17,
   "metadata": {},
   "outputs": [
    {
     "name": "stdout",
     "output_type": "stream",
     "text": [
      "g:\\Meine Ablage\\projekt-cnn-yolo-echtzeiterkennung-verkehszeichen-gtsrb\\yolov5\n"
     ]
    },
    {
     "name": "stderr",
     "output_type": "stream",
     "text": [
      "Cloning into 'yolov5'...\n",
      "Updating files:  26% (39/147)\n",
      "Updating files:  27% (40/147)\n",
      "Updating files:  28% (42/147)\n",
      "Updating files:  29% (43/147)\n",
      "Updating files:  30% (45/147)\n",
      "Updating files:  31% (46/147)\n",
      "Updating files:  32% (48/147)\n",
      "Updating files:  33% (49/147)\n",
      "Updating files:  34% (50/147)\n",
      "Updating files:  35% (52/147)\n",
      "Updating files:  36% (53/147)\n",
      "Updating files:  37% (55/147)\n",
      "Updating files:  38% (56/147)\n",
      "Updating files:  39% (58/147)\n",
      "Updating files:  40% (59/147)\n",
      "Updating files:  41% (61/147)\n",
      "Updating files:  42% (62/147)\n",
      "Updating files:  43% (64/147)\n",
      "Updating files:  44% (65/147)\n",
      "Updating files:  45% (67/147)\n",
      "Updating files:  46% (68/147)\n",
      "Updating files:  47% (70/147)\n",
      "Updating files:  48% (71/147)\n",
      "Updating files:  49% (73/147)\n",
      "Updating files:  50% (74/147)\n",
      "Updating files:  51% (75/147)\n",
      "Updating files:  52% (77/147)\n",
      "Updating files:  53% (78/147)\n",
      "Updating files:  54% (80/147)\n",
      "Updating files:  55% (81/147)\n",
      "Updating files:  56% (83/147)\n",
      "Updating files:  57% (84/147)\n",
      "Updating files:  58% (86/147)\n",
      "Updating files:  59% (87/147)\n",
      "Updating files:  60% (89/147)\n",
      "Updating files:  61% (90/147)\n",
      "Updating files:  62% (92/147)\n",
      "Updating files:  63% (93/147)\n",
      "Updating files:  64% (95/147)\n",
      "Updating files:  65% (96/147)\n",
      "Updating files:  66% (98/147)\n",
      "Updating files:  67% (99/147)\n",
      "Updating files:  68% (100/147)\n",
      "Updating files:  69% (102/147)\n",
      "Updating files:  70% (103/147)\n",
      "Updating files:  71% (105/147)\n",
      "Updating files:  72% (106/147)\n",
      "Updating files:  73% (108/147)\n",
      "Updating files:  74% (109/147)\n",
      "Updating files:  75% (111/147)\n",
      "Updating files:  76% (112/147)\n",
      "Updating files:  77% (114/147)\n",
      "Updating files:  78% (115/147)\n",
      "Updating files:  79% (117/147)\n",
      "Updating files:  80% (118/147)\n",
      "Updating files:  81% (120/147)\n",
      "Updating files:  82% (121/147)\n",
      "Updating files:  83% (123/147)\n",
      "Updating files:  84% (124/147)\n",
      "Updating files:  85% (125/147)\n",
      "Updating files:  86% (127/147)\n",
      "Updating files:  87% (128/147)\n",
      "Updating files:  88% (130/147)\n",
      "Updating files:  89% (131/147)\n",
      "Updating files:  90% (133/147)\n",
      "Updating files:  91% (134/147)\n",
      "Updating files:  92% (136/147)\n",
      "Updating files:  93% (137/147)\n",
      "Updating files:  94% (139/147)\n",
      "Updating files:  95% (140/147)\n",
      "Updating files:  96% (142/147)\n",
      "Updating files:  97% (143/147)\n",
      "Updating files:  98% (145/147)\n",
      "Updating files:  99% (146/147)\n",
      "Updating files: 100% (147/147)\n",
      "Updating files: 100% (147/147), done.\n",
      "c:\\Users\\papa0\\miniconda3\\envs\\KI-Entwicklung\\Lib\\site-packages\\IPython\\core\\magics\\osm.py:417: UserWarning: This is now an optional IPython functionality, setting dhist requires you to install the `pickleshare` library.\n",
      "  self.shell.db['dhist'] = compress_dhist(dhist)[-100:]\n"
     ]
    },
    {
     "name": "stdout",
     "output_type": "stream",
     "text": [
      "Requirement already satisfied: gitpython>=3.1.30 in c:\\users\\papa0\\miniconda3\\envs\\ki-entwicklung\\lib\\site-packages (from -r requirements.txt (line 5)) (3.1.43)\n",
      "Requirement already satisfied: matplotlib>=3.3 in c:\\users\\papa0\\miniconda3\\envs\\ki-entwicklung\\lib\\site-packages (from -r requirements.txt (line 6)) (3.9.2)\n",
      "Requirement already satisfied: numpy>=1.23.5 in c:\\users\\papa0\\miniconda3\\envs\\ki-entwicklung\\lib\\site-packages (from -r requirements.txt (line 7)) (1.26.4)\n",
      "Requirement already satisfied: opencv-python>=4.1.1 in c:\\users\\papa0\\miniconda3\\envs\\ki-entwicklung\\lib\\site-packages (from -r requirements.txt (line 8)) (4.10.0.84)\n",
      "Requirement already satisfied: pillow>=10.3.0 in c:\\users\\papa0\\miniconda3\\envs\\ki-entwicklung\\lib\\site-packages (from -r requirements.txt (line 9)) (10.4.0)\n",
      "Requirement already satisfied: psutil in c:\\users\\papa0\\miniconda3\\envs\\ki-entwicklung\\lib\\site-packages (from -r requirements.txt (line 10)) (6.0.0)\n",
      "Requirement already satisfied: PyYAML>=5.3.1 in c:\\users\\papa0\\miniconda3\\envs\\ki-entwicklung\\lib\\site-packages (from -r requirements.txt (line 11)) (6.0.1)\n",
      "Requirement already satisfied: requests>=2.32.2 in c:\\users\\papa0\\miniconda3\\envs\\ki-entwicklung\\lib\\site-packages (from -r requirements.txt (line 12)) (2.32.3)\n",
      "Requirement already satisfied: scipy>=1.4.1 in c:\\users\\papa0\\miniconda3\\envs\\ki-entwicklung\\lib\\site-packages (from -r requirements.txt (line 13)) (1.14.1)\n",
      "Requirement already satisfied: thop>=0.1.1 in c:\\users\\papa0\\miniconda3\\envs\\ki-entwicklung\\lib\\site-packages (from -r requirements.txt (line 14)) (0.1.1.post2209072238)\n",
      "Requirement already satisfied: torch>=1.8.0 in c:\\users\\papa0\\miniconda3\\envs\\ki-entwicklung\\lib\\site-packages (from -r requirements.txt (line 15)) (2.4.1)\n",
      "Requirement already satisfied: torchvision>=0.9.0 in c:\\users\\papa0\\miniconda3\\envs\\ki-entwicklung\\lib\\site-packages (from -r requirements.txt (line 16)) (0.19.1)\n",
      "Requirement already satisfied: tqdm>=4.66.3 in c:\\users\\papa0\\miniconda3\\envs\\ki-entwicklung\\lib\\site-packages (from -r requirements.txt (line 17)) (4.66.5)\n",
      "Requirement already satisfied: ultralytics>=8.2.34 in c:\\users\\papa0\\miniconda3\\envs\\ki-entwicklung\\lib\\site-packages (from -r requirements.txt (line 18)) (8.3.6)\n",
      "Requirement already satisfied: pandas>=1.1.4 in c:\\users\\papa0\\miniconda3\\envs\\ki-entwicklung\\lib\\site-packages (from -r requirements.txt (line 27)) (2.2.3)\n",
      "Requirement already satisfied: seaborn>=0.11.0 in c:\\users\\papa0\\miniconda3\\envs\\ki-entwicklung\\lib\\site-packages (from -r requirements.txt (line 28)) (0.13.2)\n",
      "Requirement already satisfied: setuptools>=70.0.0 in c:\\users\\papa0\\miniconda3\\envs\\ki-entwicklung\\lib\\site-packages (from -r requirements.txt (line 42)) (72.1.0)\n",
      "Requirement already satisfied: gitdb<5,>=4.0.1 in c:\\users\\papa0\\miniconda3\\envs\\ki-entwicklung\\lib\\site-packages (from gitpython>=3.1.30->-r requirements.txt (line 5)) (4.0.11)\n",
      "Requirement already satisfied: contourpy>=1.0.1 in c:\\users\\papa0\\miniconda3\\envs\\ki-entwicklung\\lib\\site-packages (from matplotlib>=3.3->-r requirements.txt (line 6)) (1.2.1)\n",
      "Requirement already satisfied: cycler>=0.10 in c:\\users\\papa0\\miniconda3\\envs\\ki-entwicklung\\lib\\site-packages (from matplotlib>=3.3->-r requirements.txt (line 6)) (0.12.1)\n",
      "Requirement already satisfied: fonttools>=4.22.0 in c:\\users\\papa0\\miniconda3\\envs\\ki-entwicklung\\lib\\site-packages (from matplotlib>=3.3->-r requirements.txt (line 6)) (4.53.1)\n",
      "Requirement already satisfied: kiwisolver>=1.3.1 in c:\\users\\papa0\\miniconda3\\envs\\ki-entwicklung\\lib\\site-packages (from matplotlib>=3.3->-r requirements.txt (line 6)) (1.4.5)\n",
      "Requirement already satisfied: packaging>=20.0 in c:\\users\\papa0\\miniconda3\\envs\\ki-entwicklung\\lib\\site-packages (from matplotlib>=3.3->-r requirements.txt (line 6)) (24.1)\n",
      "Requirement already satisfied: pyparsing>=2.3.1 in c:\\users\\papa0\\miniconda3\\envs\\ki-entwicklung\\lib\\site-packages (from matplotlib>=3.3->-r requirements.txt (line 6)) (3.1.2)\n",
      "Requirement already satisfied: python-dateutil>=2.7 in c:\\users\\papa0\\miniconda3\\envs\\ki-entwicklung\\lib\\site-packages (from matplotlib>=3.3->-r requirements.txt (line 6)) (2.9.0.post0)\n",
      "Requirement already satisfied: charset-normalizer<4,>=2 in c:\\users\\papa0\\miniconda3\\envs\\ki-entwicklung\\lib\\site-packages (from requests>=2.32.2->-r requirements.txt (line 12)) (3.3.2)\n",
      "Requirement already satisfied: idna<4,>=2.5 in c:\\users\\papa0\\miniconda3\\envs\\ki-entwicklung\\lib\\site-packages (from requests>=2.32.2->-r requirements.txt (line 12)) (3.7)\n",
      "Requirement already satisfied: urllib3<3,>=1.21.1 in c:\\users\\papa0\\miniconda3\\envs\\ki-entwicklung\\lib\\site-packages (from requests>=2.32.2->-r requirements.txt (line 12)) (2.2.2)\n",
      "Requirement already satisfied: certifi>=2017.4.17 in c:\\users\\papa0\\miniconda3\\envs\\ki-entwicklung\\lib\\site-packages (from requests>=2.32.2->-r requirements.txt (line 12)) (2024.7.4)\n",
      "Requirement already satisfied: filelock in c:\\users\\papa0\\miniconda3\\envs\\ki-entwicklung\\lib\\site-packages (from torch>=1.8.0->-r requirements.txt (line 15)) (3.13.1)\n",
      "Requirement already satisfied: typing-extensions>=4.8.0 in c:\\users\\papa0\\miniconda3\\envs\\ki-entwicklung\\lib\\site-packages (from torch>=1.8.0->-r requirements.txt (line 15)) (4.11.0)\n",
      "Requirement already satisfied: sympy in c:\\users\\papa0\\miniconda3\\envs\\ki-entwicklung\\lib\\site-packages (from torch>=1.8.0->-r requirements.txt (line 15)) (1.13.2)\n",
      "Requirement already satisfied: networkx in c:\\users\\papa0\\miniconda3\\envs\\ki-entwicklung\\lib\\site-packages (from torch>=1.8.0->-r requirements.txt (line 15)) (3.2.1)\n",
      "Requirement already satisfied: jinja2 in c:\\users\\papa0\\miniconda3\\envs\\ki-entwicklung\\lib\\site-packages (from torch>=1.8.0->-r requirements.txt (line 15)) (3.1.4)\n",
      "Requirement already satisfied: fsspec in c:\\users\\papa0\\miniconda3\\envs\\ki-entwicklung\\lib\\site-packages (from torch>=1.8.0->-r requirements.txt (line 15)) (2024.6.1)\n",
      "Requirement already satisfied: colorama in c:\\users\\papa0\\miniconda3\\envs\\ki-entwicklung\\lib\\site-packages (from tqdm>=4.66.3->-r requirements.txt (line 17)) (0.4.6)\n",
      "Requirement already satisfied: py-cpuinfo in c:\\users\\papa0\\miniconda3\\envs\\ki-entwicklung\\lib\\site-packages (from ultralytics>=8.2.34->-r requirements.txt (line 18)) (9.0.0)\n",
      "Requirement already satisfied: ultralytics-thop>=2.0.0 in c:\\users\\papa0\\miniconda3\\envs\\ki-entwicklung\\lib\\site-packages (from ultralytics>=8.2.34->-r requirements.txt (line 18)) (2.0.5)\n",
      "Requirement already satisfied: pytz>=2020.1 in c:\\users\\papa0\\miniconda3\\envs\\ki-entwicklung\\lib\\site-packages (from pandas>=1.1.4->-r requirements.txt (line 27)) (2024.1)\n",
      "Requirement already satisfied: tzdata>=2022.7 in c:\\users\\papa0\\miniconda3\\envs\\ki-entwicklung\\lib\\site-packages (from pandas>=1.1.4->-r requirements.txt (line 27)) (2024.1)\n",
      "Requirement already satisfied: smmap<6,>=3.0.1 in c:\\users\\papa0\\miniconda3\\envs\\ki-entwicklung\\lib\\site-packages (from gitdb<5,>=4.0.1->gitpython>=3.1.30->-r requirements.txt (line 5)) (5.0.1)\n",
      "Requirement already satisfied: six>=1.5 in c:\\users\\papa0\\miniconda3\\envs\\ki-entwicklung\\lib\\site-packages (from python-dateutil>=2.7->matplotlib>=3.3->-r requirements.txt (line 6)) (1.16.0)\n",
      "Requirement already satisfied: MarkupSafe>=2.0 in c:\\users\\papa0\\miniconda3\\envs\\ki-entwicklung\\lib\\site-packages (from jinja2->torch>=1.8.0->-r requirements.txt (line 15)) (2.1.3)\n",
      "Requirement already satisfied: mpmath<1.4,>=1.1.0 in c:\\users\\papa0\\miniconda3\\envs\\ki-entwicklung\\lib\\site-packages (from sympy->torch>=1.8.0->-r requirements.txt (line 15)) (1.3.0)\n",
      "Note: you may need to restart the kernel to use updated packages.\n"
     ]
    }
   ],
   "source": [
    "!git clone https://github.com/ultralytics/yolov5\n",
    "%cd yolov5\n",
    "%pip install -r requirements.txt"
   ]
  },
  {
   "cell_type": "markdown",
   "metadata": {},
   "source": [
    "## **Importieren des Datensatzes** \n",
    "Eine Übersicht über die Versionen der einzelnen Packages/Frameworks. Das dient dazu, die Kompitabilität der Packages mit der Python-Version (oder mit der miniconda-Version) zu überwachen."
   ]
  },
  {
   "cell_type": "code",
   "execution_count": null,
   "metadata": {},
   "outputs": [],
   "source": []
  },
  {
   "cell_type": "markdown",
   "metadata": {},
   "source": [
    "## **Splitten des Datensatzes in Train und Validation** \n"
   ]
  }
 ],
 "metadata": {
  "kernelspec": {
   "display_name": "KI-Entwicklung",
   "language": "python",
   "name": "python3"
  },
  "language_info": {
   "codemirror_mode": {
    "name": "ipython",
    "version": 3
   },
   "file_extension": ".py",
   "mimetype": "text/x-python",
   "name": "python",
   "nbconvert_exporter": "python",
   "pygments_lexer": "ipython3",
   "version": "3.12.4"
  }
 },
 "nbformat": 4,
 "nbformat_minor": 2
}

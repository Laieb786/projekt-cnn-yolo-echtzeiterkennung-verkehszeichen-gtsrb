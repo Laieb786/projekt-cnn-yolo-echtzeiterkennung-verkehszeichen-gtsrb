{
 "cells": [
  {
   "cell_type": "markdown",
   "metadata": {},
   "source": [
    "**Convolutional Neural Network (CNN) basierend auf die YOLO-Architektur zur Erkennung von deutschen Verkehrszeichen in Echtzeit mit dem GTSRB-Dataset**\n",
    "\n",
    "Autoren: Laieb Ahmad, Enes Bayar, Mehmet Akif Onur & Mert-Can Öksuz\n",
    "<br>\n",
    "Datum: 19.08.2024\n",
    "<br>\n",
    "Modul: KI-DL/ML"
   ]
  },
  {
   "cell_type": "markdown",
   "metadata": {},
   "source": [
    "## **Befehle zum Installieren/Upgraden von Packages** \n",
    "Hiert führen wir die Installation (und nach Bedarf ein Upgrade) wichtiger Python-Pakete durch, die für unser Projekt benötigt werden. Wir verwenden die Bash-Magie `%%bash`, um mehrere `pip install`-Befehle in einer einzigen Zelle auszuführen. Dadurch wird die Effizienz erhöht und der Code übersichtlicher gestaltet. \n",
    "\n",
    "Die folgenden Pakete werden aktualisiert:\n",
    "- **Numpy**: Eine Bibliothek für numerische Berechnungen und Unterstützung von Arrays.\n",
    "- **Pandas**: Eine leistungsstarke Bibliothek zur Datenmanipulation und -analyse.\n",
    "- **Scikit-learn**: Ein Framework für maschinelles Lernen mit zahlreichen Algorithmen und Werkzeugen.\n",
    "- **Scikit-image**: Eine Sammlung von Algorithmen zur Bildverarbeitung.\n",
    "- **Pillow**: Eine Bibliothek zur Bildbearbeitung und -manipulation.\n",
    "- **Imbalanced-learn**: Eine Bibliothek zur Behandlung von unausgewogenen Datensätzen im maschinellen Lernen.\n",
    "- **Statsmodels**: Eine Bibliothek für statistische Modelle und Hypothesentests.\n",
    "- **Matplotlib**: Ein Plotting-Toolkit zur Datenvisualisierung.\n",
    "- **Seaborn**: Eine auf Matplotlib basierende Bibliothek zur statistischen Datenvisualisierung.\n",
    "- **TensorFlow**: Ein Framework für maschinelles Lernen und Deep Learning.\n",
    "- **Ultralytics**: Eine Bibliothek, die das YOLO-Framework für die Objekt- und Verkehrszeichenerkennung bereitstellt.\n",
    "\n",
    "Durch die Verwendung dieser Bash-Zelle stellen wir sicher, dass alle erforderlichen Pakete auf dem neuesten Stand sind, um optimale Leistung und Kompatibilität während der Entwicklung zu gewährleisten.\n"
   ]
  },
  {
   "cell_type": "code",
   "execution_count": null,
   "metadata": {},
   "outputs": [],
   "source": [
    "%%bash #Anstatt einzel % vor jedem Command, gesammelt in einer Zelle\n",
    "pip install numpy --upgrade\n",
    "pip install pandas --upgrade\n",
    "pip install scikit-learn --upgrade\n",
    "pip install scikit-image --upgrade\n",
    "pip install pillow --upgrade\n",
    "pip install imbalanced-learn --upgrade\n",
    "pip install statsmodels --upgrade\n",
    "pip install matplotlib --upgrade\n",
    "pip install seaborn --upgrade\n",
    "pip install tensorflow --upgrade\n",
    "pip install ultralytics --upgrade#"
   ]
  },
  {
   "cell_type": "markdown",
   "metadata": {},
   "source": [
    "## **Laden von Packages** \n",
    "In diesem Abschnitt importieren wir die erforderlichen Bibliotheken, die für die Entwicklung und Ausführung unseres YOLOv5-Projekts notwendig sind. \n",
    "\n",
    "- **`from ultralytics import YOLO`**: Importiert das YOLO-Modul von Ultralytics, das für die Objekt- und Verkehrszeichenerkennung verwendet wird.\n",
    "- **`import os`**: Ermöglicht den Zugriff auf Funktionen zur Interaktion mit dem Betriebssystem, wie das Verwalten von Dateipfaden und Verzeichnissen.\n",
    "- **`import numpy as np`**: Importiert die Numpy-Bibliothek, die grundlegende Funktionen für numerische Berechnungen und Arrays bereitstellt.\n",
    "- **`import pandas as pd`**: Importiert Pandas, das für die Datenmanipulation und -analyse verwendet wird, insbesondere für die Arbeit mit DataFrames.\n",
    "- **`import cv2`**: Importiert OpenCV, eine Bibliothek für Computer Vision, die Funktionen zur Bild- und Videoverarbeitung bereitstellt.\n",
    "- **`import shutil`**: Ermöglicht die Durchführung von Datei- und Verzeichnisoperationen, wie das Kopieren und Verschieben von Dateien.\n",
    "- **`import matplotlib`**: Importiert Matplotlib, eine Bibliothek zur Datenvisualisierung, die häufig zur Erstellung von Diagrammen und Grafiken verwendet wird.\n",
    "- **`import csv`**: Importiert die CSV-Bibliothek, die das Arbeiten mit CSV-Dateien zur Datenspeicherung und -verarbeitung erleichtert.\n",
    "- **`import torch`**: Importiert PyTorch, ein Framework für maschinelles Lernen, das für die Implementierung und das Training von Deep-Learning-Modellen verwendet wird.\n",
    "\n",
    "Durch diese Importe stellen wir sicher, dass wir alle notwendigen Funktionen und Werkzeuge zur Verfügung haben, um unser Projekt erfolgreich umzusetzen.\n"
   ]
  },
  {
   "cell_type": "code",
   "execution_count": 1,
   "metadata": {},
   "outputs": [],
   "source": [
    "from ultralytics import YOLO\n",
    "from helfer_funktionen import unzip_file, resize_images, convert_labels_to_yolo_format, split_train_val\n",
    "import os\n",
    "import numpy as np\n",
    "import pandas as pd\n",
    "import cv2\n",
    "import shutil\n",
    "import matplotlib\n",
    "import csv\n",
    "import torch"
   ]
  },
  {
   "cell_type": "markdown",
   "metadata": {},
   "source": [
    "## **Übersicht der Versionen von den genutzten Packages** \n",
    "In diesem Abschnitt überprüfen wir die installierten Versionen wichtiger Pakete, die in unserem Projekt verwendet werden. Wir nutzen `print()`-Befehle, um die Versionen der Pakete Numpy, Pandas, OpenCV, Matplotlib, CSV und PyTorch anzuzeigen. Dies ermöglicht uns, sicherzustellen, dass die richtigen Versionen installiert sind und die Kompatibilität zwischen den Bibliotheken gegeben ist. \n"
   ]
  },
  {
   "cell_type": "code",
   "execution_count": 14,
   "metadata": {},
   "outputs": [
    {
     "name": "stdout",
     "output_type": "stream",
     "text": [
      "Package 'Numpy': 1.26.4\n",
      "Package 'Pandas': 2.2.3\n",
      "Package 'OpenCV': 4.10.0\n",
      "Package 'Matplotlib': 3.9.2\n",
      "Package 'CSV': 1.0\n",
      "Package 'PyTorch': 2.4.1+cpu\n"
     ]
    }
   ],
   "source": [
    "print(\"Package 'Numpy':\",np.__version__)\n",
    "print(\"Package 'Pandas':\",pd.__version__)\n",
    "print(\"Package 'OpenCV':\",cv2.__version__)\n",
    "print(\"Package 'Matplotlib':\",matplotlib.__version__)\n",
    "print(\"Package 'CSV':\",csv.__version__)\n",
    "print(\"Package 'PyTorch':\",torch.__version__)"
   ]
  },
  {
   "cell_type": "markdown",
   "metadata": {},
   "source": [
    "## **Installieren von Yolov5** \n",
    "In diesem Abschnitt klonen wir das YOLOv5-Repository von GitHub, um auf den Quellcode und die Modelle zuzugreifen. Zuerst verwenden wir den Befehl `!git clone https://github.com/ultralytics/yolov5`, um das Repository auf unser lokales System herunterzuladen. Anschließend wechseln wir mit `%cd yolov5` in das Verzeichnis des geklonten Projekts, um dort weitere Schritte auszuführen. Schließlich installieren wir mit `%pip install -r requirements.txt` alle erforderlichen Abhängigkeiten, die für den Betrieb des YOLOv5-Modells notwendig sind.\n"
   ]
  },
  {
   "cell_type": "code",
   "execution_count": null,
   "metadata": {},
   "outputs": [],
   "source": [
    "!git clone https://github.com/ultralytics/yolov5\n",
    "\n",
    "%%bash\n",
    "cd yolov5\n",
    "pip install -r requirements.txt"
   ]
  },
  {
   "cell_type": "markdown",
   "metadata": {},
   "source": [
    "## **Entpacken der .zip-Dateien des GTSRB-Datensatzes** \n",
    "Eine Übersicht über die Versionen der einzelnen Packages/Frameworks. Das dient dazu, die Kompitabilität der Packages mit der Python-Version (oder mit der miniconda-Version) zu überwachen."
   ]
  },
  {
   "cell_type": "code",
   "execution_count": null,
   "metadata": {},
   "outputs": [],
   "source": [
    "# Pfade zu den heruntergeladenen Dateien\n",
    "train_images_zip = 'Pfad_zur_GTSRB_Final_Training_Images.zip'\n",
    "test_images_zip = 'Pfad_zur_GTSRB_Final_Test_Images.zip'\n",
    "test_labels_zip = 'Pfad_zur_GTSRB_Final_Test_GT.zip'\n",
    "\n",
    "# Entpacken der Dateien\n",
    "unzip_file(train_images_zip, 'GTSRB_Training')\n",
    "unzip_file(test_images_zip, 'GTSRB_Test')\n",
    "unzip_file(test_labels_zip, 'GTSRB_Test_GT')"
   ]
  },
  {
   "cell_type": "markdown",
   "metadata": {},
   "source": [
    "## **Importieren des Datensatzes** \n",
    "Eine Übersicht über die Versionen der einzelnen Packages/Frameworks. Das dient dazu, die Kompitabilität der Packages mit der Python-Version (oder mit der miniconda-Version) zu überwachen."
   ]
  },
  {
   "cell_type": "code",
   "execution_count": null,
   "metadata": {},
   "outputs": [],
   "source": [
    "# Beispiel-Code \n",
    "%%bash \n",
    "mkdir ~/.kaggle\n",
    "cp kaggle.json ~/.kaggle/kaggle.json\n",
    "chmod 600 ~/.kaggle/kaggle.json\n",
    "pip install kaggle\n",
    "kaggle datasets download -d andrewmvd/road-sign-detection\n",
    "unzip road-sign-detection.zip -d data\n",
    "mv ./data/annotations ./data/labels"
   ]
  },
  {
   "cell_type": "markdown",
   "metadata": {},
   "source": [
    "## **Übersicht über die Daten** \n",
    "Eine Übersicht über die Versionen der einzelnen Packages/Frameworks. Das dient dazu, die Kompitabilität der Packages mit der Python-Version (oder mit der miniconda-Version) zu überwachen."
   ]
  },
  {
   "cell_type": "markdown",
   "metadata": {},
   "source": []
  },
  {
   "cell_type": "markdown",
   "metadata": {},
   "source": [
    "## **Splitten des Datensatzes in Train und Validation** \n"
   ]
  },
  {
   "cell_type": "code",
   "execution_count": 13,
   "metadata": {},
   "outputs": [
    {
     "ename": "AttributeError",
     "evalue": "module 'csv' has no attribute 'file'",
     "output_type": "error",
     "traceback": [
      "\u001b[1;31m---------------------------------------------------------------------------\u001b[0m",
      "\u001b[1;31mAttributeError\u001b[0m                            Traceback (most recent call last)",
      "Cell \u001b[1;32mIn[13], line 6\u001b[0m\n\u001b[0;32m      3\u001b[0m     bild()\n\u001b[0;32m      4\u001b[0m     \u001b[38;5;28;01mreturn\u001b[39;00m csv_datei\n\u001b[1;32m----> 6\u001b[0m \u001b[43mget_csv\u001b[49m\u001b[43m(\u001b[49m\u001b[43mcsv_datei\u001b[49m\u001b[38;5;241;43m=\u001b[39;49m\u001b[38;5;241;43m1\u001b[39;49m\u001b[43m)\u001b[49m\n",
      "Cell \u001b[1;32mIn[13], line 2\u001b[0m, in \u001b[0;36mget_csv\u001b[1;34m(csv_datei)\u001b[0m\n\u001b[0;32m      1\u001b[0m \u001b[38;5;28;01mdef\u001b[39;00m \u001b[38;5;21mget_csv\u001b[39m (csv_datei):\n\u001b[1;32m----> 2\u001b[0m     bild \u001b[38;5;241m=\u001b[39m \u001b[43mcsv\u001b[49m\u001b[38;5;241;43m.\u001b[39;49m\u001b[43mfile\u001b[49m\u001b[38;5;241m.\u001b[39mchoose()\n\u001b[0;32m      3\u001b[0m     bild()\n\u001b[0;32m      4\u001b[0m     \u001b[38;5;28;01mreturn\u001b[39;00m csv_datei\n",
      "\u001b[1;31mAttributeError\u001b[0m: module 'csv' has no attribute 'file'"
     ]
    }
   ],
   "source": []
  },
  {
   "cell_type": "markdown",
   "metadata": {},
   "source": [
    "## **Erstellen der yaml-Datei in dem Projektverzeichnis** \n"
   ]
  },
  {
   "cell_type": "code",
   "execution_count": null,
   "metadata": {},
   "outputs": [],
   "source": []
  }
 ],
 "metadata": {
  "kernelspec": {
   "display_name": "KI-Entwicklung",
   "language": "python",
   "name": "python3"
  },
  "language_info": {
   "codemirror_mode": {
    "name": "ipython",
    "version": 3
   },
   "file_extension": ".py",
   "mimetype": "text/x-python",
   "name": "python",
   "nbconvert_exporter": "python",
   "pygments_lexer": "ipython3",
   "version": "3.12.4"
  }
 },
 "nbformat": 4,
 "nbformat_minor": 2
}

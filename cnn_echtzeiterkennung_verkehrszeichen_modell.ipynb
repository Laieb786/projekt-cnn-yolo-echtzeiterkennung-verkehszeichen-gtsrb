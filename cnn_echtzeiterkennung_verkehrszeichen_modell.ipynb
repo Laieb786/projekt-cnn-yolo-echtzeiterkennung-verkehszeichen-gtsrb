{
 "cells": [
  {
   "cell_type": "markdown",
   "metadata": {},
   "source": [
    "**Convolutional Neural Network (CNN) basierend auf die YOLO-Architektur zur Erkennung von deutschen Verkehrszeichen in Echtzeit mit dem GTSRB-Dataset**\n",
    "\n",
    "Autoren: Laieb Ahmad, Enes Bayar, Mehmet Akif Onur & Mert-Can Öksuz\n",
    "<br>\n",
    "Datum: 19.08.2024\n",
    "<br>\n",
    "Modul: KI-DL/ML\n",
    "<br>\n",
    "Dozent: Prof. Dr. Stephan Schneider"
   ]
  },
  {
   "cell_type": "markdown",
   "metadata": {},
   "source": [
    "## **Befehle zum Installieren/Upgraden von Packages** \n",
    "Hiert führen wir die Installation (und nach Bedarf ein Upgrade) wichtiger Python-Pakete durch, die für unser Projekt benötigt werden. Wir verwenden die Bash-Magie `%%bash`, um mehrere `pip install`-Befehle in einer einzigen Zelle auszuführen. Dadurch wird die Effizienz erhöht und der Code übersichtlicher gestaltet. \n",
    "\n",
    "Die folgenden Pakete werden aktualisiert:\n",
    "- **Numpy**: Eine Bibliothek für numerische Berechnungen und Unterstützung von Arrays.\n",
    "- **Pandas**: Eine leistungsstarke Bibliothek zur Datenmanipulation und -analyse.\n",
    "- **Scikit-learn**: Ein Framework für maschinelles Lernen mit zahlreichen Algorithmen und Werkzeugen.\n",
    "- **Scikit-image**: Eine Sammlung von Algorithmen zur Bildverarbeitung.\n",
    "- **Pillow**: Eine Bibliothek zur Bildbearbeitung und -manipulation.\n",
    "- **Imbalanced-learn**: Eine Bibliothek zur Behandlung von unausgewogenen Datensätzen im maschinellen Lernen.\n",
    "- **Statsmodels**: Eine Bibliothek für statistische Modelle und Hypothesentests.\n",
    "- **Matplotlib**: Ein Plotting-Toolkit zur Datenvisualisierung.\n",
    "- **Seaborn**: Eine auf Matplotlib basierende Bibliothek zur statistischen Datenvisualisierung.\n",
    "- **TensorFlow**: Ein Framework für maschinelles Lernen und Deep Learning.\n",
    "- **Ultralytics**: Eine Bibliothek, die das YOLO-Framework für die Objekt- und Verkehrszeichenerkennung bereitstellt.\n",
    "\n",
    "Durch die Verwendung dieser Bash-Zelle stellen wir sicher, dass alle erforderlichen Pakete auf dem neuesten Stand sind, um optimale Leistung und Kompatibilität während der Entwicklung zu gewährleisten.\n"
   ]
  },
  {
   "cell_type": "code",
   "execution_count": null,
   "metadata": {},
   "outputs": [],
   "source": [
    "%%bash #Anstatt einzel % vor jedem Command, gesammelt in einer Zelle\n",
    "pip install wandb --upgrade\n",
    "pip install numpy --upgrade\n",
    "pip install pandas --upgrade\n",
    "pip install scikit-learn --upgrade\n",
    "pip install scikit-image --upgrade\n",
    "pip install pillow --upgrade\n",
    "pip install imbalanced-learn --upgrade\n",
    "pip install statsmodels --upgrade\n",
    "pip install matplotlib --upgrade\n",
    "pip install seaborn --upgrade\n",
    "pip install tensorflow --upgrade\n",
    "pip install ultralytics --upgrade"
   ]
  },
  {
   "cell_type": "markdown",
   "metadata": {},
   "source": [
    "## **Laden von Packages** \n",
    "In diesem Abschnitt importieren wir die erforderlichen Bibliotheken, die für die Entwicklung und Ausführung unseres YOLOv5-Projekts notwendig sind. \n",
    "\n",
    "- **`from ultralytics import YOLO`**: Importiert das YOLO-Modul von Ultralytics, das für die Objekt- und Verkehrszeichenerkennung verwendet wird.\n",
    "- **`import os`**: Ermöglicht den Zugriff auf Funktionen zur Interaktion mit dem Betriebssystem, wie das Verwalten von Dateipfaden und Verzeichnissen.\n",
    "- **`import numpy as np`**: Importiert die Numpy-Bibliothek, die grundlegende Funktionen für numerische Berechnungen und Arrays bereitstellt.\n",
    "- **`import pandas as pd`**: Importiert Pandas, das für die Datenmanipulation und -analyse verwendet wird, insbesondere für die Arbeit mit DataFrames.\n",
    "- **`import cv2`**: Importiert OpenCV, eine Bibliothek für Computer Vision, die Funktionen zur Bild- und Videoverarbeitung bereitstellt.\n",
    "- **`import shutil`**: Ermöglicht die Durchführung von Datei- und Verzeichnisoperationen, wie das Kopieren und Verschieben von Dateien.\n",
    "- **`import matplotlib`**: Importiert Matplotlib, eine Bibliothek zur Datenvisualisierung, die häufig zur Erstellung von Diagrammen und Grafiken verwendet wird.\n",
    "- **`import csv`**: Importiert die CSV-Bibliothek, die das Arbeiten mit CSV-Dateien zur Datenspeicherung und -verarbeitung erleichtert.\n",
    "- **`import torch`**: Importiert PyTorch, ein Framework für maschinelles Lernen, das für die Implementierung und das Training von Deep-Learning-Modellen verwendet wird.\n",
    "\n",
    "Durch diese Importe stellen wir sicher, dass wir alle notwendigen Funktionen und Werkzeuge zur Verfügung haben, um unser Projekt erfolgreich umzusetzen.\n"
   ]
  },
  {
   "cell_type": "code",
   "execution_count": 9,
   "metadata": {},
   "outputs": [
    {
     "ename": "ImportError",
     "evalue": "cannot import name 'natural_key' from 'helfer_funktionen' (g:\\Meine Ablage\\projekt-cnn-yolo-echtzeiterkennung-verkehszeichen-gtsrb\\helfer_funktionen.py)",
     "output_type": "error",
     "traceback": [
      "\u001b[1;31m---------------------------------------------------------------------------\u001b[0m",
      "\u001b[1;31mImportError\u001b[0m                               Traceback (most recent call last)",
      "Cell \u001b[1;32mIn[9], line 2\u001b[0m\n\u001b[0;32m      1\u001b[0m \u001b[38;5;28;01mfrom\u001b[39;00m \u001b[38;5;21;01multralytics\u001b[39;00m \u001b[38;5;28;01mimport\u001b[39;00m YOLO\n\u001b[1;32m----> 2\u001b[0m \u001b[38;5;28;01mfrom\u001b[39;00m \u001b[38;5;21;01mhelfer_funktionen\u001b[39;00m \u001b[38;5;28;01mimport\u001b[39;00m datensatz_entpacken_importieren, natural_key, get_filenames, read_images, images_to_array\n\u001b[0;32m      3\u001b[0m \u001b[38;5;28;01mimport\u001b[39;00m \u001b[38;5;21;01mos\u001b[39;00m\n\u001b[0;32m      4\u001b[0m \u001b[38;5;28;01mimport\u001b[39;00m \u001b[38;5;21;01mnumpy\u001b[39;00m \u001b[38;5;28;01mas\u001b[39;00m \u001b[38;5;21;01mnp\u001b[39;00m\n",
      "\u001b[1;31mImportError\u001b[0m: cannot import name 'natural_key' from 'helfer_funktionen' (g:\\Meine Ablage\\projekt-cnn-yolo-echtzeiterkennung-verkehszeichen-gtsrb\\helfer_funktionen.py)"
     ]
    }
   ],
   "source": [
    "from ultralytics import YOLO\n",
    "from helfer_funktionen import datensatz_entpacken_importieren, natural_key, get_filenames, read_images, images_to_array\n",
    "import os\n",
    "import numpy as np\n",
    "import pandas as pd\n",
    "import cv2\n",
    "import shutil\n",
    "import matplotlib as plt\n",
    "import csv\n",
    "import torch\n",
    "import wandb"
   ]
  },
  {
   "cell_type": "markdown",
   "metadata": {},
   "source": [
    "## **Übersicht der Versionen von den genutzten Packages** \n",
    "In diesem Abschnitt überprüfen wir die installierten Versionen wichtiger Pakete, die in unserem Projekt verwendet werden. Wir nutzen `print()`-Befehle, um die Versionen der Pakete Numpy, Pandas, OpenCV, Matplotlib, CSV und PyTorch anzuzeigen. Dies ermöglicht uns, sicherzustellen, dass die richtigen Versionen installiert sind und die Kompatibilität zwischen den Bibliotheken gegeben ist. \n"
   ]
  },
  {
   "cell_type": "code",
   "execution_count": 3,
   "metadata": {},
   "outputs": [
    {
     "name": "stdout",
     "output_type": "stream",
     "text": [
      "Package 'Numpy': 1.26.4\n",
      "Package 'Pandas': 2.2.3\n",
      "Package 'OpenCV': 4.10.0\n",
      "Package 'Matplotlib': 3.9.2\n",
      "Package 'CSV': 1.0\n",
      "Package 'PyTorch': 2.4.1+cpu\n",
      "Package 'WandB': 0.18.3\n"
     ]
    }
   ],
   "source": [
    "print(\"Package 'Numpy':\",np.__version__)\n",
    "print(\"Package 'Pandas':\",pd.__version__)\n",
    "print(\"Package 'OpenCV':\",cv2.__version__)\n",
    "print(\"Package 'Matplotlib':\",matplotlib.__version__)\n",
    "print(\"Package 'CSV':\",csv.__version__)\n",
    "print(\"Package 'PyTorch':\",torch.__version__)\n",
    "print(\"Package 'WandB':\",wandb.__version__)"
   ]
  },
  {
   "cell_type": "markdown",
   "metadata": {},
   "source": [
    "## **Konfigurieren von WandB für das Tracking des Trainings** \n",
    "Um das Training des Modells zu überwachen und Metriken wie Verlust, Genauigkeit und Hyperparameter zu verfolgen, wird **Weights & Biases (WandB)** konfiguriert. WandB ist ein Tool zur Verwaltung und Visualisierung von Machine-Learning-Experimenten, das eine einfache Integration und Echtzeit-Überwachung ermöglicht.\n",
    "\n",
    "- **Anmeldung bei WandB**: Durch den Befehl `wandb.login(key=\"YOUR_API_KEY\")` authentifiziert sich das Skript über die API von WandB. Der API-Schlüssel muss durch deinen persönlichen Schlüssel von WandB ersetzt werden, der über dein WandB-Konto verfügbar ist.\n",
    "- **Projekt-Tracking**: Nach der Authentifizierung werden automatisch alle Trainingsmetriken und Modellparameter an das WandB-Dashboard gesendet, wo sie in Echtzeit überwacht und analysiert werden können."
   ]
  },
  {
   "cell_type": "code",
   "execution_count": 4,
   "metadata": {},
   "outputs": [
    {
     "name": "stderr",
     "output_type": "stream",
     "text": [
      "wandb: Using wandb-core as the SDK backend. Please refer to https://wandb.me/wandb-core for more information.\n",
      "wandb: Currently logged in as: laieb-ahmed (laieb-ahmed-fachhochschule-kiel). Use `wandb login --relogin` to force relogin\n",
      "wandb: WARNING If you're specifying your api key in code, ensure this code is not shared publicly.\n",
      "wandb: WARNING Consider setting the WANDB_API_KEY environment variable, or running `wandb login` from the command line.\n",
      "wandb: Appending key for api.wandb.ai to your netrc file: C:\\Users\\papa0\\_netrc\n"
     ]
    },
    {
     "data": {
      "text/plain": [
       "True"
      ]
     },
     "execution_count": 4,
     "metadata": {},
     "output_type": "execute_result"
    }
   ],
   "source": [
    "wandb.login(key=\"c1cb8293bb986e1a60106d41c29bde806ad72758\")"
   ]
  },
  {
   "cell_type": "markdown",
   "metadata": {},
   "source": [
    "## **Installieren von Yolov5** \n",
    "In diesem Abschnitt klonen wir das YOLOv5-Repository von GitHub, um auf den Quellcode und die Modelle zuzugreifen. Zuerst verwenden wir den Befehl `!git clone https://github.com/ultralytics/yolov5`, um das Repository auf unser lokales System herunterzuladen. Anschließend wechseln wir mit `%cd yolov5` in das Verzeichnis des geklonten Projekts, um dort weitere Schritte auszuführen. Schließlich installieren wir mit `%pip install -r requirements.txt` alle erforderlichen Abhängigkeiten, die für den Betrieb des YOLOv5-Modells notwendig sind.\n"
   ]
  },
  {
   "cell_type": "code",
   "execution_count": null,
   "metadata": {},
   "outputs": [],
   "source": [
    "!git clone https://github.com/ultralytics/yolov5\n",
    "\n",
    "%%bash\n",
    "cd yolov5\n",
    "pip install -r requirements.txt"
   ]
  },
  {
   "cell_type": "markdown",
   "metadata": {},
   "source": [
    "## **Importieren des Datensatzes** \n",
    "Der Datensatz wird mit der Funktion datensatz_entpacken_importieren() importiert, die in einer separaten Datei namens helfer_funktionen.py implementiert ist. Diese Funktion nutzt die Kaggle-API, um den gewünschten Datensatz direkt von Kaggle herunterzuladen, zu entpacken und im Projektverzeichnis abzulegen."
   ]
  },
  {
   "cell_type": "code",
   "execution_count": 5,
   "metadata": {},
   "outputs": [
    {
     "name": "stdout",
     "output_type": "stream",
     "text": [
      "Datensatz valentynsichkar/yolo-v5-format-of-the-traffic-signs-dataset wird heruntergeladen....\n",
      "Dataset URL: https://www.kaggle.com/datasets/valentynsichkar/yolo-v5-format-of-the-traffic-signs-dataset\n",
      "Verzeichnis 'ts43classes' wird entpackt.... \n",
      "Verzeichnis 'ts43classes' erfolgreich nach ./data verschoben.\n",
      "Import abgeschlossen.\n"
     ]
    }
   ],
   "source": [
    "datensatz_entpacken_importieren()"
   ]
  },
  {
   "cell_type": "markdown",
   "metadata": {},
   "source": [
    "## **Übersicht über die Daten** \n",
    "Eine Übersicht über die Versionen der einzelnen Packages/Frameworks. Das dient dazu, die Kompitabilität der Packages mit der Python-Version (oder mit der miniconda-Version) zu überwachen."
   ]
  },
  {
   "cell_type": "code",
   "execution_count": 6,
   "metadata": {},
   "outputs": [
    {
     "ename": "NameError",
     "evalue": "name 'get_filenames' is not defined",
     "output_type": "error",
     "traceback": [
      "\u001b[1;31m---------------------------------------------------------------------------\u001b[0m",
      "\u001b[1;31mNameError\u001b[0m                                 Traceback (most recent call last)",
      "Cell \u001b[1;32mIn[6], line 3\u001b[0m\n\u001b[0;32m      1\u001b[0m \u001b[38;5;66;03m# Get file names\u001b[39;00m\n\u001b[0;32m      2\u001b[0m imagepath \u001b[38;5;241m=\u001b[39m \u001b[38;5;124mr\u001b[39m\u001b[38;5;124m\"\u001b[39m\u001b[38;5;124mG:\u001b[39m\u001b[38;5;124m\\\u001b[39m\u001b[38;5;124mMeine Ablage\u001b[39m\u001b[38;5;124m\\\u001b[39m\u001b[38;5;124mprojekt-cnn-yolo-echtzeiterkennung-verkehszeichen-gtsrb\u001b[39m\u001b[38;5;124m\\\u001b[39m\u001b[38;5;124mdata\u001b[39m\u001b[38;5;124m\\\u001b[39m\u001b[38;5;124mimages\u001b[39m\u001b[38;5;124m\\\u001b[39m\u001b[38;5;124mtest\u001b[39m\u001b[38;5;124m\"\u001b[39m\n\u001b[1;32m----> 3\u001b[0m image_names \u001b[38;5;241m=\u001b[39m \u001b[43mget_filenames\u001b[49m(imagepath)\n\u001b[0;32m      4\u001b[0m \u001b[38;5;66;03m# Load images\u001b[39;00m\n\u001b[0;32m      5\u001b[0m input_shape \u001b[38;5;241m=\u001b[39m {\n\u001b[0;32m      6\u001b[0m     \u001b[38;5;124m\"\u001b[39m\u001b[38;5;124mheight\u001b[39m\u001b[38;5;124m\"\u001b[39m: \u001b[38;5;241m128\u001b[39m,\n\u001b[0;32m      7\u001b[0m     \u001b[38;5;124m\"\u001b[39m\u001b[38;5;124mwidth\u001b[39m\u001b[38;5;124m\"\u001b[39m: \u001b[38;5;241m128\u001b[39m,\n\u001b[0;32m      8\u001b[0m     \u001b[38;5;124m\"\u001b[39m\u001b[38;5;124mchannels\u001b[39m\u001b[38;5;124m\"\u001b[39m: \u001b[38;5;241m3\u001b[39m\n\u001b[0;32m      9\u001b[0m }\n",
      "\u001b[1;31mNameError\u001b[0m: name 'get_filenames' is not defined"
     ]
    }
   ],
   "source": [
    "# Get file names\n",
    "imagepath = r\"G:\\Meine Ablage\\projekt-cnn-yolo-echtzeiterkennung-verkehszeichen-gtsrb\\data\\images\\test\"\n",
    "image_names = get_filenames(imagepath)\n",
    "# Load images\n",
    "input_shape = {\n",
    "    \"height\": 128,\n",
    "    \"width\": 128,\n",
    "    \"channels\": 3\n",
    "}\n",
    "images = read_images(image_names, height=input_shape[\"height\"], width=input_shape[\"width\"], flags=1)\n",
    "# Convert images to array\n",
    "aimages = images_to_array(images)\n",
    "print(f'Shape of images array: {aimages.shape}')\n",
    "# Plot images array\n",
    "#display(Image.fromarray(aimages[11]))\n",
    "plt.imshow(aimages[0, ...])\n",
    "plt.show()"
   ]
  },
  {
   "cell_type": "markdown",
   "metadata": {},
   "source": [
    "## **Splitten des Datensatzes in Train und Validation** \n"
   ]
  },
  {
   "cell_type": "code",
   "execution_count": null,
   "metadata": {},
   "outputs": [],
   "source": []
  },
  {
   "cell_type": "markdown",
   "metadata": {},
   "source": [
    "## **Erstellen der yaml-Datei in dem Projektverzeichnis** \n"
   ]
  },
  {
   "cell_type": "code",
   "execution_count": 24,
   "metadata": {},
   "outputs": [],
   "source": [
    "\n"
   ]
  }
 ],
 "metadata": {
  "kernelspec": {
   "display_name": "KI-Entwicklung",
   "language": "python",
   "name": "python3"
  },
  "language_info": {
   "codemirror_mode": {
    "name": "ipython",
    "version": 3
   },
   "file_extension": ".py",
   "mimetype": "text/x-python",
   "name": "python",
   "nbconvert_exporter": "python",
   "pygments_lexer": "ipython3",
   "version": "3.12.4"
  }
 },
 "nbformat": 4,
 "nbformat_minor": 2
}
